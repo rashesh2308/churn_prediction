{
 "cells": [
  {
   "cell_type": "code",
   "execution_count": 1,
   "metadata": {},
   "outputs": [],
   "source": [
    "import pandas as pd\n",
    "import seaborn as sns\n",
    "import matplotlib.pyplot as plt\n",
    "import matplotlib\n",
    "from sklearn import metrics\n",
    "\n",
    "matplotlib.get_backend()\n",
    "%matplotlib inline\n",
    "train = pd.read_csv(\"Train.csv\")\n",
    "Train_AccountInfo = pd.read_csv(\"Train_AccountInfo.csv\")\n",
    "Train_Demographics = pd.read_csv(\"Train_Demographics.csv\")\n",
    "Train_ServicesOptedFor = pd.read_csv(\"Train_ServicesOptedFor.csv\")"
   ]
  },
  {
   "cell_type": "code",
   "execution_count": 2,
   "metadata": {},
   "outputs": [
    {
     "name": "stdout",
     "output_type": "stream",
     "text": [
      "(5298, 2)\n"
     ]
    },
    {
     "data": {
      "text/html": [
       "<div>\n",
       "<style>\n",
       "    .dataframe thead tr:only-child th {\n",
       "        text-align: right;\n",
       "    }\n",
       "\n",
       "    .dataframe thead th {\n",
       "        text-align: left;\n",
       "    }\n",
       "\n",
       "    .dataframe tbody tr th {\n",
       "        vertical-align: top;\n",
       "    }\n",
       "</style>\n",
       "<table border=\"1\" class=\"dataframe\">\n",
       "  <thead>\n",
       "    <tr style=\"text-align: right;\">\n",
       "      <th></th>\n",
       "      <th>CustomerID</th>\n",
       "      <th>Churn</th>\n",
       "    </tr>\n",
       "  </thead>\n",
       "  <tbody>\n",
       "    <tr>\n",
       "      <th>0</th>\n",
       "      <td>Cust4327</td>\n",
       "      <td>Yes</td>\n",
       "    </tr>\n",
       "    <tr>\n",
       "      <th>1</th>\n",
       "      <td>Cust3826</td>\n",
       "      <td>No</td>\n",
       "    </tr>\n",
       "    <tr>\n",
       "      <th>2</th>\n",
       "      <td>Cust6200</td>\n",
       "      <td>No</td>\n",
       "    </tr>\n",
       "    <tr>\n",
       "      <th>3</th>\n",
       "      <td>Cust1467</td>\n",
       "      <td>No</td>\n",
       "    </tr>\n",
       "    <tr>\n",
       "      <th>4</th>\n",
       "      <td>Cust4843</td>\n",
       "      <td>No</td>\n",
       "    </tr>\n",
       "  </tbody>\n",
       "</table>\n",
       "</div>"
      ],
      "text/plain": [
       "  CustomerID Churn\n",
       "0   Cust4327   Yes\n",
       "1   Cust3826    No\n",
       "2   Cust6200    No\n",
       "3   Cust1467    No\n",
       "4   Cust4843    No"
      ]
     },
     "execution_count": 2,
     "metadata": {},
     "output_type": "execute_result"
    }
   ],
   "source": [
    "print(train.shape)\n",
    "train.head()"
   ]
  },
  {
   "cell_type": "code",
   "execution_count": 3,
   "metadata": {},
   "outputs": [
    {
     "data": {
      "text/plain": [
       "<matplotlib.axes._subplots.AxesSubplot at 0x37cff52b70>"
      ]
     },
     "execution_count": 3,
     "metadata": {},
     "output_type": "execute_result"
    },
    {
     "data": {
      "image/png": "[encoded data removed]",
      "text/plain": [
       "<matplotlib.figure.Figure at 0x37c4a16208>"
      ]
     },
     "metadata": {},
     "output_type": "display_data"
    }
   ],
   "source": [
    "sns.countplot(x=\"Churn\", data=train)\n",
    "#the data is highly imbalanced.."
   ]
  },
  {
   "cell_type": "code",
   "execution_count": 4,
   "metadata": {},
   "outputs": [
    {
     "name": "stdout",
     "output_type": "stream",
     "text": [
      "(5298, 8)\n"
     ]
    },
    {
     "data": {
      "text/html": [
       "<div>\n",
       "<style>\n",
       "    .dataframe thead tr:only-child th {\n",
       "        text-align: right;\n",
       "    }\n",
       "\n",
       "    .dataframe thead th {\n",
       "        text-align: left;\n",
       "    }\n",
       "\n",
       "    .dataframe tbody tr th {\n",
       "        vertical-align: top;\n",
       "    }\n",
       "</style>\n",
       "<table border=\"1\" class=\"dataframe\">\n",
       "  <thead>\n",
       "    <tr style=\"text-align: right;\">\n",
       "      <th></th>\n",
       "      <th>CustomerID</th>\n",
       "      <th>BaseCharges</th>\n",
       "      <th>DOC</th>\n",
       "      <th>TotalCharges</th>\n",
       "      <th>DOE</th>\n",
       "      <th>ElectronicBilling</th>\n",
       "      <th>ContractType</th>\n",
       "      <th>PaymentMethod</th>\n",
       "    </tr>\n",
       "  </thead>\n",
       "  <tbody>\n",
       "    <tr>\n",
       "      <th>0</th>\n",
       "      <td>Cust1450</td>\n",
       "      <td>417.75</td>\n",
       "      <td>5-1-2012</td>\n",
       "      <td>3400.25</td>\n",
       "      <td>10-May-11</td>\n",
       "      <td>Yes</td>\n",
       "      <td>Month-to-month</td>\n",
       "      <td>Electronic check</td>\n",
       "    </tr>\n",
       "    <tr>\n",
       "      <th>1</th>\n",
       "      <td>Cust4452</td>\n",
       "      <td>500.00</td>\n",
       "      <td>5-1-2012</td>\n",
       "      <td>7673.75</td>\n",
       "      <td>12-Sep-10</td>\n",
       "      <td>Yes</td>\n",
       "      <td>Month-to-month</td>\n",
       "      <td>Electronic check</td>\n",
       "    </tr>\n",
       "    <tr>\n",
       "      <th>2</th>\n",
       "      <td>Cust1681</td>\n",
       "      <td>394.00</td>\n",
       "      <td>5-1-2012</td>\n",
       "      <td>8206.5</td>\n",
       "      <td>15-May-10</td>\n",
       "      <td>No</td>\n",
       "      <td>Month-to-month</td>\n",
       "      <td>Electronic check</td>\n",
       "    </tr>\n",
       "    <tr>\n",
       "      <th>3</th>\n",
       "      <td>Cust4761</td>\n",
       "      <td>398.75</td>\n",
       "      <td>5-1-2012</td>\n",
       "      <td>5559.25</td>\n",
       "      <td>12-Oct-10</td>\n",
       "      <td>Yes</td>\n",
       "      <td>Month-to-month</td>\n",
       "      <td>Electronic check</td>\n",
       "    </tr>\n",
       "    <tr>\n",
       "      <th>4</th>\n",
       "      <td>Cust1785</td>\n",
       "      <td>447.25</td>\n",
       "      <td>5-1-2012</td>\n",
       "      <td>4265.5</td>\n",
       "      <td>10-Apr-11</td>\n",
       "      <td>No</td>\n",
       "      <td>Month-to-month</td>\n",
       "      <td>Electronic check</td>\n",
       "    </tr>\n",
       "  </tbody>\n",
       "</table>\n",
       "</div>"
      ],
      "text/plain": [
       "  CustomerID  BaseCharges       DOC TotalCharges        DOE ElectronicBilling  \\\n",
       "0   Cust1450       417.75  5-1-2012      3400.25  10-May-11               Yes   \n",
       "1   Cust4452       500.00  5-1-2012      7673.75  12-Sep-10               Yes   \n",
       "2   Cust1681       394.00  5-1-2012       8206.5  15-May-10                No   \n",
       "3   Cust4761       398.75  5-1-2012      5559.25  12-Oct-10               Yes   \n",
       "4   Cust1785       447.25  5-1-2012       4265.5  10-Apr-11                No   \n",
       "\n",
       "     ContractType     PaymentMethod  \n",
       "0  Month-to-month  Electronic check  \n",
       "1  Month-to-month  Electronic check  \n",
       "2  Month-to-month  Electronic check  \n",
       "3  Month-to-month  Electronic check  \n",
       "4  Month-to-month  Electronic check  "
      ]
     },
     "execution_count": 4,
     "metadata": {},
     "output_type": "execute_result"
    }
   ],
   "source": [
    "print(Train_AccountInfo.shape)\n",
    "Train_AccountInfo.head()"
   ]
  },
  {
   "cell_type": "code",
   "execution_count": null,
   "metadata": {},
   "outputs": [],
   "source": []
  },
  {
   "cell_type": "code",
   "execution_count": 5,
   "metadata": {},
   "outputs": [
    {
     "data": {
      "text/html": [
       "<div>\n",
       "<style>\n",
       "    .dataframe thead tr:only-child th {\n",
       "        text-align: right;\n",
       "    }\n",
       "\n",
       "    .dataframe thead th {\n",
       "        text-align: left;\n",
       "    }\n",
       "\n",
       "    .dataframe tbody tr th {\n",
       "        vertical-align: top;\n",
       "    }\n",
       "</style>\n",
       "<table border=\"1\" class=\"dataframe\">\n",
       "  <thead>\n",
       "    <tr style=\"text-align: right;\">\n",
       "      <th></th>\n",
       "      <th>CustomerID</th>\n",
       "      <th>Churn</th>\n",
       "    </tr>\n",
       "  </thead>\n",
       "  <tbody>\n",
       "    <tr>\n",
       "      <th>3817</th>\n",
       "      <td>Cust1450</td>\n",
       "      <td>Yes</td>\n",
       "    </tr>\n",
       "  </tbody>\n",
       "</table>\n",
       "</div>"
      ],
      "text/plain": [
       "     CustomerID Churn\n",
       "3817   Cust1450   Yes"
      ]
     },
     "execution_count": 5,
     "metadata": {},
     "output_type": "execute_result"
    }
   ],
   "source": [
    "#taking the first record in train_accounntinfo and checking in train data to know wheeather to merge or not\n",
    "train[train.CustomerID == \"Cust1450\"]"
   ]
  },
  {
   "cell_type": "code",
   "execution_count": 6,
   "metadata": {},
   "outputs": [
    {
     "data": {
      "text/html": [
       "<div>\n",
       "<style>\n",
       "    .dataframe thead tr:only-child th {\n",
       "        text-align: right;\n",
       "    }\n",
       "\n",
       "    .dataframe thead th {\n",
       "        text-align: left;\n",
       "    }\n",
       "\n",
       "    .dataframe tbody tr th {\n",
       "        vertical-align: top;\n",
       "    }\n",
       "</style>\n",
       "<table border=\"1\" class=\"dataframe\">\n",
       "  <thead>\n",
       "    <tr style=\"text-align: right;\">\n",
       "      <th></th>\n",
       "      <th>CustomerID</th>\n",
       "      <th>BaseCharges</th>\n",
       "      <th>DOC</th>\n",
       "      <th>TotalCharges</th>\n",
       "      <th>DOE</th>\n",
       "      <th>ElectronicBilling</th>\n",
       "      <th>ContractType</th>\n",
       "      <th>PaymentMethod</th>\n",
       "      <th>Churn</th>\n",
       "    </tr>\n",
       "  </thead>\n",
       "  <tbody>\n",
       "    <tr>\n",
       "      <th>0</th>\n",
       "      <td>Cust1450</td>\n",
       "      <td>417.75</td>\n",
       "      <td>5-1-2012</td>\n",
       "      <td>3400.25</td>\n",
       "      <td>10-May-11</td>\n",
       "      <td>Yes</td>\n",
       "      <td>Month-to-month</td>\n",
       "      <td>Electronic check</td>\n",
       "      <td>Yes</td>\n",
       "    </tr>\n",
       "  </tbody>\n",
       "</table>\n",
       "</div>"
      ],
      "text/plain": [
       "  CustomerID  BaseCharges       DOC TotalCharges        DOE ElectronicBilling  \\\n",
       "0   Cust1450       417.75  5-1-2012      3400.25  10-May-11               Yes   \n",
       "\n",
       "     ContractType     PaymentMethod Churn  \n",
       "0  Month-to-month  Electronic check   Yes  "
      ]
     },
     "execution_count": 6,
     "metadata": {},
     "output_type": "execute_result"
    }
   ],
   "source": [
    "#merging two dataframes with customerid attribute\n",
    "train_train_account= pd.merge(Train_AccountInfo,train,on=\"CustomerID\")\n",
    "train_train_account[train_train_account.CustomerID == \"Cust1450\"] #checking the merged dataframe"
   ]
  },
  {
   "cell_type": "code",
   "execution_count": 7,
   "metadata": {},
   "outputs": [
    {
     "name": "stdout",
     "output_type": "stream",
     "text": [
      "(5298, 8)\n"
     ]
    },
    {
     "data": {
      "text/html": [
       "<div>\n",
       "<style>\n",
       "    .dataframe thead tr:only-child th {\n",
       "        text-align: right;\n",
       "    }\n",
       "\n",
       "    .dataframe thead th {\n",
       "        text-align: left;\n",
       "    }\n",
       "\n",
       "    .dataframe tbody tr th {\n",
       "        vertical-align: top;\n",
       "    }\n",
       "</style>\n",
       "<table border=\"1\" class=\"dataframe\">\n",
       "  <thead>\n",
       "    <tr style=\"text-align: right;\">\n",
       "      <th></th>\n",
       "      <th>HouseholdID</th>\n",
       "      <th>Country</th>\n",
       "      <th>State</th>\n",
       "      <th>Retired</th>\n",
       "      <th>HasPartner</th>\n",
       "      <th>HasDependents</th>\n",
       "      <th>Education</th>\n",
       "      <th>Gender</th>\n",
       "    </tr>\n",
       "  </thead>\n",
       "  <tbody>\n",
       "    <tr>\n",
       "      <th>453</th>\n",
       "      <td>Cust1450</td>\n",
       "      <td>India</td>\n",
       "      <td>Maharashtra</td>\n",
       "      <td>0</td>\n",
       "      <td>1</td>\n",
       "      <td>1</td>\n",
       "      <td>Highschool or below</td>\n",
       "      <td>Female</td>\n",
       "    </tr>\n",
       "  </tbody>\n",
       "</table>\n",
       "</div>"
      ],
      "text/plain": [
       "    HouseholdID Country        State  Retired  HasPartner  HasDependents  \\\n",
       "453    Cust1450   India  Maharashtra        0           1              1   \n",
       "\n",
       "               Education  Gender  \n",
       "453  Highschool or below  Female  "
      ]
     },
     "execution_count": 7,
     "metadata": {},
     "output_type": "execute_result"
    }
   ],
   "source": [
    "print(Train_Demographics.shape)\n",
    "Train_Demographics.head()\n",
    "Train_Demographics[Train_Demographics.HouseholdID == \"Cust1450\"]"
   ]
  },
  {
   "cell_type": "code",
   "execution_count": null,
   "metadata": {},
   "outputs": [],
   "source": []
  },
  {
   "cell_type": "code",
   "execution_count": 8,
   "metadata": {
    "scrolled": true
   },
   "outputs": [
    {
     "data": {
      "text/html": [
       "<div>\n",
       "<style>\n",
       "    .dataframe thead tr:only-child th {\n",
       "        text-align: right;\n",
       "    }\n",
       "\n",
       "    .dataframe thead th {\n",
       "        text-align: left;\n",
       "    }\n",
       "\n",
       "    .dataframe tbody tr th {\n",
       "        vertical-align: top;\n",
       "    }\n",
       "</style>\n",
       "<table border=\"1\" class=\"dataframe\">\n",
       "  <thead>\n",
       "    <tr style=\"text-align: right;\">\n",
       "      <th></th>\n",
       "      <th>CustomerID</th>\n",
       "      <th>Country</th>\n",
       "      <th>State</th>\n",
       "      <th>Retired</th>\n",
       "      <th>HasPartner</th>\n",
       "      <th>HasDependents</th>\n",
       "      <th>Education</th>\n",
       "      <th>Gender</th>\n",
       "      <th>BaseCharges</th>\n",
       "      <th>DOC</th>\n",
       "      <th>TotalCharges</th>\n",
       "      <th>DOE</th>\n",
       "      <th>ElectronicBilling</th>\n",
       "      <th>ContractType</th>\n",
       "      <th>PaymentMethod</th>\n",
       "      <th>Churn</th>\n",
       "    </tr>\n",
       "  </thead>\n",
       "  <tbody>\n",
       "    <tr>\n",
       "      <th>0</th>\n",
       "      <td>Cust5390</td>\n",
       "      <td>India</td>\n",
       "      <td>Maharashtra</td>\n",
       "      <td>0</td>\n",
       "      <td>2</td>\n",
       "      <td>2</td>\n",
       "      <td>Graduation</td>\n",
       "      <td>Female</td>\n",
       "      <td>106.0</td>\n",
       "      <td>5-1-2012</td>\n",
       "      <td>1113.25</td>\n",
       "      <td>11-Mar-11</td>\n",
       "      <td>Yes</td>\n",
       "      <td>Month-to-month</td>\n",
       "      <td>Electronic check</td>\n",
       "      <td>No</td>\n",
       "    </tr>\n",
       "    <tr>\n",
       "      <th>1</th>\n",
       "      <td>Cust4417</td>\n",
       "      <td>India</td>\n",
       "      <td>Maharashtra</td>\n",
       "      <td>1</td>\n",
       "      <td>1</td>\n",
       "      <td>2</td>\n",
       "      <td>Highschool or below</td>\n",
       "      <td>Male</td>\n",
       "      <td>473.0</td>\n",
       "      <td>5-1-2012</td>\n",
       "      <td>1397.75</td>\n",
       "      <td>7-Oct-11</td>\n",
       "      <td>Yes</td>\n",
       "      <td>Month-to-month</td>\n",
       "      <td>Electronic check</td>\n",
       "      <td>Yes</td>\n",
       "    </tr>\n",
       "  </tbody>\n",
       "</table>\n",
       "</div>"
      ],
      "text/plain": [
       "  CustomerID Country        State  Retired  HasPartner  HasDependents  \\\n",
       "0   Cust5390   India  Maharashtra        0           2              2   \n",
       "1   Cust4417   India  Maharashtra        1           1              2   \n",
       "\n",
       "             Education  Gender  BaseCharges       DOC TotalCharges        DOE  \\\n",
       "0           Graduation  Female        106.0  5-1-2012      1113.25  11-Mar-11   \n",
       "1  Highschool or below    Male        473.0  5-1-2012      1397.75   7-Oct-11   \n",
       "\n",
       "  ElectronicBilling    ContractType     PaymentMethod Churn  \n",
       "0               Yes  Month-to-month  Electronic check    No  \n",
       "1               Yes  Month-to-month  Electronic check   Yes  "
      ]
     },
     "execution_count": 8,
     "metadata": {},
     "output_type": "execute_result"
    }
   ],
   "source": [
    "#renaming a column to match\n",
    "Train_Demographics = Train_Demographics.rename(columns={ \"HouseholdID\" : \"CustomerID\"})\n",
    "#Train_Demographics['HouseholdID'] = \"CustomerID\"\n",
    "train_account_demo = pd.merge(Train_Demographics,train_train_account, on=\"CustomerID\")\n",
    "train_account_demo.head(2)"
   ]
  },
  {
   "cell_type": "code",
   "execution_count": 9,
   "metadata": {
    "scrolled": true
   },
   "outputs": [],
   "source": [
    "#the services opted by different users is different\n",
    "#lets replace the values where the customer did not subscribe with NO\n",
    "#replace values where the customer subscribed with YES\n",
    "Train_ServicesOptedFor.SeviceDetails[Train_ServicesOptedFor.SeviceDetails == \"1\"] = \"Yes\"\n",
    "Train_ServicesOptedFor.SeviceDetails[Train_ServicesOptedFor.SeviceDetails == \"No internet service\"] = \"No\"\n",
    "Train_ServicesOptedFor.SeviceDetails[Train_ServicesOptedFor.SeviceDetails == \"0\"] = \"No\"\n",
    "Train_ServicesOptedFor.SeviceDetails[Train_ServicesOptedFor.SeviceDetails == \"Fiber optic\"] = \"Yes\"\n",
    "Train_ServicesOptedFor.SeviceDetails[Train_ServicesOptedFor.SeviceDetails == \"DSL\"] = \"Yes\"\n",
    "Train_ServicesOptedFor.SeviceDetails[Train_ServicesOptedFor.SeviceDetails == \"No phone service\"] = \"No\"\n",
    "#Train_ServicesOptedFor[Train_ServicesOptedFor.CustomerID == \"Cust1450\"]"
   ]
  },
  {
   "cell_type": "code",
   "execution_count": 10,
   "metadata": {},
   "outputs": [],
   "source": [
    "#remove records that have NO and the we will have the services that each customer has chosen\n",
    "#now lets dummify those services \n",
    "yes_train_service = Train_ServicesOptedFor[Train_ServicesOptedFor.SeviceDetails != 'No']\n",
    "yes_train_service = yes_train_service.sort_values(by=['TypeOfService'], ascending=['True'])\n",
    "ff = pd.get_dummies(yes_train_service, prefix=['TypeOfService'],\n",
    "               columns=['TypeOfService'])"
   ]
  },
  {
   "cell_type": "code",
   "execution_count": 11,
   "metadata": {},
   "outputs": [
    {
     "data": {
      "text/html": [
       "<div>\n",
       "<style>\n",
       "    .dataframe thead tr:only-child th {\n",
       "        text-align: right;\n",
       "    }\n",
       "\n",
       "    .dataframe thead th {\n",
       "        text-align: left;\n",
       "    }\n",
       "\n",
       "    .dataframe tbody tr th {\n",
       "        vertical-align: top;\n",
       "    }\n",
       "</style>\n",
       "<table border=\"1\" class=\"dataframe\">\n",
       "  <thead>\n",
       "    <tr style=\"text-align: right;\">\n",
       "      <th></th>\n",
       "      <th>CustomerID</th>\n",
       "      <th>TypeOfService_DeviceProtection</th>\n",
       "      <th>TypeOfService_HasPhoneService</th>\n",
       "      <th>TypeOfService_InternetServiceCategory</th>\n",
       "      <th>TypeOfService_StreamingMovies</th>\n",
       "      <th>TypeOfService_StreamingTelevision</th>\n",
       "      <th>TypeOfService_OnlineBackup</th>\n",
       "      <th>TypeOfService_OnlineSecurity</th>\n",
       "      <th>TypeOfService_MultipleLines</th>\n",
       "      <th>TypeOfService_TechnicalSupport</th>\n",
       "      <th>...</th>\n",
       "      <th>Education</th>\n",
       "      <th>Gender</th>\n",
       "      <th>BaseCharges</th>\n",
       "      <th>DOC</th>\n",
       "      <th>TotalCharges</th>\n",
       "      <th>DOE</th>\n",
       "      <th>ElectronicBilling</th>\n",
       "      <th>ContractType</th>\n",
       "      <th>PaymentMethod</th>\n",
       "      <th>Churn</th>\n",
       "    </tr>\n",
       "  </thead>\n",
       "  <tbody>\n",
       "    <tr>\n",
       "      <th>0</th>\n",
       "      <td>Cust1201</td>\n",
       "      <td>1</td>\n",
       "      <td>1</td>\n",
       "      <td>1</td>\n",
       "      <td>1</td>\n",
       "      <td>1</td>\n",
       "      <td>0</td>\n",
       "      <td>0</td>\n",
       "      <td>0</td>\n",
       "      <td>0</td>\n",
       "      <td>...</td>\n",
       "      <td>Masters</td>\n",
       "      <td>Male</td>\n",
       "      <td>478.50</td>\n",
       "      <td>5-1-2012</td>\n",
       "      <td>5920</td>\n",
       "      <td>10-Jan-11</td>\n",
       "      <td>No</td>\n",
       "      <td>One year</td>\n",
       "      <td>Electronic check</td>\n",
       "      <td>No</td>\n",
       "    </tr>\n",
       "    <tr>\n",
       "      <th>1</th>\n",
       "      <td>Cust1202</td>\n",
       "      <td>1</td>\n",
       "      <td>0</td>\n",
       "      <td>0</td>\n",
       "      <td>0</td>\n",
       "      <td>0</td>\n",
       "      <td>0</td>\n",
       "      <td>0</td>\n",
       "      <td>0</td>\n",
       "      <td>0</td>\n",
       "      <td>...</td>\n",
       "      <td>ProfessionalQalification</td>\n",
       "      <td>Male</td>\n",
       "      <td>103.25</td>\n",
       "      <td>5-1-2012</td>\n",
       "      <td>103.25</td>\n",
       "      <td>6-Dec-11</td>\n",
       "      <td>No</td>\n",
       "      <td>Month-to-month</td>\n",
       "      <td>Electronic check</td>\n",
       "      <td>No</td>\n",
       "    </tr>\n",
       "  </tbody>\n",
       "</table>\n",
       "<p>2 rows × 25 columns</p>\n",
       "</div>"
      ],
      "text/plain": [
       "  CustomerID  TypeOfService_DeviceProtection  TypeOfService_HasPhoneService  \\\n",
       "0   Cust1201                               1                              1   \n",
       "1   Cust1202                               1                              0   \n",
       "\n",
       "   TypeOfService_InternetServiceCategory  TypeOfService_StreamingMovies  \\\n",
       "0                                      1                              1   \n",
       "1                                      0                              0   \n",
       "\n",
       "   TypeOfService_StreamingTelevision  TypeOfService_OnlineBackup  \\\n",
       "0                                  1                           0   \n",
       "1                                  0                           0   \n",
       "\n",
       "   TypeOfService_OnlineSecurity  TypeOfService_MultipleLines  \\\n",
       "0                             0                            0   \n",
       "1                             0                            0   \n",
       "\n",
       "   TypeOfService_TechnicalSupport  ...                  Education Gender  \\\n",
       "0                               0  ...                    Masters   Male   \n",
       "1                               0  ...   ProfessionalQalification   Male   \n",
       "\n",
       "   BaseCharges       DOC  TotalCharges        DOE ElectronicBilling  \\\n",
       "0       478.50  5-1-2012          5920  10-Jan-11                No   \n",
       "1       103.25  5-1-2012        103.25   6-Dec-11                No   \n",
       "\n",
       "     ContractType     PaymentMethod Churn  \n",
       "0        One year  Electronic check    No  \n",
       "1  Month-to-month  Electronic check    No  \n",
       "\n",
       "[2 rows x 25 columns]"
      ]
     },
     "execution_count": 11,
     "metadata": {},
     "output_type": "execute_result"
    }
   ],
   "source": [
    "## we have multiple records with same customer id as a customer minght be sbscribed to many services\n",
    "#hence adding the multiple rows to single rows\n",
    "xx = ff.groupby('CustomerID')['SeviceDetails'].apply(lambda x: pd.DataFrame(x.values)).unstack().reset_index()\n",
    "xx.columns = xx.columns.droplevel()\n",
    "xx.columns = ['CustomerID','TypeOfService_DeviceProtection', 'TypeOfService_HasPhoneService', \n",
    "              'TypeOfService_InternetServiceCategory','TypeOfService_StreamingMovies','TypeOfService_StreamingTelevision',\n",
    "              'TypeOfService_OnlineBackup','TypeOfService_OnlineSecurity',\n",
    "             'TypeOfService_MultipleLines',\n",
    "              'TypeOfService_TechnicalSupport']\n",
    "xx = xx.replace({'Yes': 1, None: 0})\n",
    "train_account_demo = pd.merge(xx,train_account_demo, on=\"CustomerID\",how='inner')\n",
    "train_account_demo.head(2) #we have dummified dataset with 1 in the service customer subscribed"
   ]
  },
  {
   "cell_type": "markdown",
   "metadata": {},
   "source": [
    "## Visualization"
   ]
  },
  {
   "cell_type": "code",
   "execution_count": 12,
   "metadata": {},
   "outputs": [
    {
     "data": {
      "text/plain": [
       "<matplotlib.axes._subplots.AxesSubplot at 0x37cf81b400>"
      ]
     },
     "execution_count": 12,
     "metadata": {},
     "output_type": "execute_result"
    },
    {
     "data": {
      "image/png": "[encoded data removed]",
      "text/plain": [
       "<matplotlib.figure.Figure at 0x37cf6bb0b8>"
      ]
     },
     "metadata": {},
     "output_type": "display_data"
    }
   ],
   "source": [
    "#distribution of education\n",
    "fig, ax = plt.subplots(figsize=(15,10)) \n",
    "sns.countplot(x=\"Education\", data=train_account_demo)"
   ]
  },
  {
   "cell_type": "code",
   "execution_count": 13,
   "metadata": {
    "scrolled": false
   },
   "outputs": [
    {
     "data": {
      "text/plain": [
       "<matplotlib.axes._subplots.AxesSubplot at 0x37d00e4ba8>"
      ]
     },
     "execution_count": 13,
     "metadata": {},
     "output_type": "execute_result"
    },
    {
     "data": {
      "image/png": "[encoded data removed]",
      "text/plain": [
       "<matplotlib.figure.Figure at 0x37cf680b00>"
      ]
     },
     "metadata": {},
     "output_type": "display_data"
    }
   ],
   "source": [
    "fig, ax = plt.subplots(figsize=(6,6)) \n",
    "sns.countplot(x=\"ElectronicBilling\", data=train_account_demo)"
   ]
  },
  {
   "cell_type": "code",
   "execution_count": 14,
   "metadata": {},
   "outputs": [
    {
     "data": {
      "text/plain": [
       "<matplotlib.axes._subplots.AxesSubplot at 0x37d0122e80>"
      ]
     },
     "execution_count": 14,
     "metadata": {},
     "output_type": "execute_result"
    },
    {
     "data": {
      "image/png": "[encoded data removed]",
      "text/plain": [
       "<matplotlib.figure.Figure at 0x37d0116828>"
      ]
     },
     "metadata": {},
     "output_type": "display_data"
    }
   ],
   "source": [
    "fig, ax = plt.subplots(figsize=(8,9)) \n",
    "sns.countplot(x=\"ContractType\", data=train_account_demo)"
   ]
  },
  {
   "cell_type": "code",
   "execution_count": 15,
   "metadata": {},
   "outputs": [
    {
     "data": {
      "text/plain": [
       "<matplotlib.axes._subplots.AxesSubplot at 0x37d0183940>"
      ]
     },
     "execution_count": 15,
     "metadata": {},
     "output_type": "execute_result"
    },
    {
     "data": {
      "image/png": "[encoded data removed]",
      "text/plain": [
       "<matplotlib.figure.Figure at 0x37d01ac6a0>"
      ]
     },
     "metadata": {},
     "output_type": "display_data"
    }
   ],
   "source": [
    "fig, ax = plt.subplots(figsize=(14,8)) \n",
    "sns.countplot(x=\"PaymentMethod\", data=train_account_demo)"
   ]
  },
  {
   "cell_type": "code",
   "execution_count": 16,
   "metadata": {},
   "outputs": [
    {
     "data": {
      "text/plain": [
       "<matplotlib.axes._subplots.AxesSubplot at 0x37d2382f28>"
      ]
     },
     "execution_count": 16,
     "metadata": {},
     "output_type": "execute_result"
    },
    {
     "data": {
      "image/png": "[encoded data removed]",
      "text/plain": [
       "<matplotlib.figure.Figure at 0x37d0116780>"
      ]
     },
     "metadata": {},
     "output_type": "display_data"
    }
   ],
   "source": [
    "sns.distplot(Train_AccountInfo.BaseCharges)"
   ]
  },
  {
   "cell_type": "code",
   "execution_count": 17,
   "metadata": {
    "scrolled": false
   },
   "outputs": [
    {
     "data": {
      "text/plain": [
       "<matplotlib.axes._subplots.AxesSubplot at 0x37d23595f8>"
      ]
     },
     "execution_count": 17,
     "metadata": {},
     "output_type": "execute_result"
    },
    {
     "data": {
      "image/png": "[encoded data removed]",
      "text/plain": [
       "<matplotlib.figure.Figure at 0x37d23dac88>"
      ]
     },
     "metadata": {},
     "output_type": "display_data"
    }
   ],
   "source": [
    "train_account_demo_group = train_account_demo.groupby(['Education','Churn']).size()\n",
    "train_account_demo_group_stack = train_account_demo_group.unstack(1).fillna('0')\n",
    "train_account_demo_group_stack.plot(kind='bar',label='Education',figsize=(10,8),\n",
    "                                   title='Qualification and Churn',grid=True,legend='True',\n",
    "                                   fontsize=12, rot='horizontal')"
   ]
  },
  {
   "cell_type": "code",
   "execution_count": null,
   "metadata": {},
   "outputs": [],
   "source": []
  },
  {
   "cell_type": "code",
   "execution_count": 18,
   "metadata": {
    "scrolled": false
   },
   "outputs": [
    {
     "data": {
      "text/plain": [
       "<matplotlib.axes._subplots.AxesSubplot at 0x37d23c7ba8>"
      ]
     },
     "execution_count": 18,
     "metadata": {},
     "output_type": "execute_result"
    },
    {
     "data": {
      "image/png": "[encoded data removed]",
      "text/plain": [
       "<matplotlib.figure.Figure at 0x37d2498208>"
      ]
     },
     "metadata": {},
     "output_type": "display_data"
    }
   ],
   "source": [
    "train_account_demo_group = train_account_demo.groupby(['Gender','Churn']).size()\n",
    "train_account_demo_group_stack = train_account_demo_group.unstack(1).fillna('0')\n",
    "train_account_demo_group_stack.plot(kind='bar',label='Education',figsize=(10,8),\n",
    "                                   title='Gender and Churn',grid=True,legend='True',\n",
    "                                   fontsize=12, rot='horizontal')"
   ]
  },
  {
   "cell_type": "code",
   "execution_count": 19,
   "metadata": {},
   "outputs": [
    {
     "data": {
      "text/plain": [
       "<matplotlib.axes._subplots.AxesSubplot at 0x37d2541cf8>"
      ]
     },
     "execution_count": 19,
     "metadata": {},
     "output_type": "execute_result"
    },
    {
     "data": {
      "image/png": "[encoded data removed]",
      "text/plain": [
       "<matplotlib.figure.Figure at 0x37d256c780>"
      ]
     },
     "metadata": {},
     "output_type": "display_data"
    }
   ],
   "source": [
    "train_account_demo_group = train_account_demo.groupby(['Retired','Churn']).size()\n",
    "train_account_demo_group_stack = train_account_demo_group.unstack(1).fillna('0')\n",
    "train_account_demo_group_stack.plot(kind='bar',label='Education',figsize=(10,8),\n",
    "                                   title='Retirement and Churn',grid=True,legend='True',\n",
    "                                   fontsize=12, rot='horizontal')"
   ]
  },
  {
   "cell_type": "code",
   "execution_count": 20,
   "metadata": {},
   "outputs": [
    {
     "name": "stdout",
     "output_type": "stream",
     "text": [
      "(1324, 25)\n",
      "(3974, 25)\n",
      "(2648, 25)\n"
     ]
    },
    {
     "data": {
      "text/html": [
       "<div>\n",
       "<style>\n",
       "    .dataframe thead tr:only-child th {\n",
       "        text-align: right;\n",
       "    }\n",
       "\n",
       "    .dataframe thead th {\n",
       "        text-align: left;\n",
       "    }\n",
       "\n",
       "    .dataframe tbody tr th {\n",
       "        vertical-align: top;\n",
       "    }\n",
       "</style>\n",
       "<table border=\"1\" class=\"dataframe\">\n",
       "  <thead>\n",
       "    <tr style=\"text-align: right;\">\n",
       "      <th></th>\n",
       "      <th>CustomerID</th>\n",
       "      <th>TypeOfService_DeviceProtection</th>\n",
       "      <th>TypeOfService_HasPhoneService</th>\n",
       "      <th>TypeOfService_InternetServiceCategory</th>\n",
       "      <th>TypeOfService_StreamingMovies</th>\n",
       "      <th>TypeOfService_StreamingTelevision</th>\n",
       "      <th>TypeOfService_OnlineBackup</th>\n",
       "      <th>TypeOfService_OnlineSecurity</th>\n",
       "      <th>TypeOfService_MultipleLines</th>\n",
       "      <th>TypeOfService_TechnicalSupport</th>\n",
       "      <th>...</th>\n",
       "      <th>Education</th>\n",
       "      <th>Gender</th>\n",
       "      <th>BaseCharges</th>\n",
       "      <th>DOC</th>\n",
       "      <th>TotalCharges</th>\n",
       "      <th>DOE</th>\n",
       "      <th>ElectronicBilling</th>\n",
       "      <th>ContractType</th>\n",
       "      <th>PaymentMethod</th>\n",
       "      <th>Churn</th>\n",
       "    </tr>\n",
       "  </thead>\n",
       "  <tbody>\n",
       "    <tr>\n",
       "      <th>4</th>\n",
       "      <td>Cust1205</td>\n",
       "      <td>1</td>\n",
       "      <td>1</td>\n",
       "      <td>1</td>\n",
       "      <td>0</td>\n",
       "      <td>0</td>\n",
       "      <td>0</td>\n",
       "      <td>0</td>\n",
       "      <td>0</td>\n",
       "      <td>0</td>\n",
       "      <td>...</td>\n",
       "      <td>ProfessionalQalification</td>\n",
       "      <td>Female</td>\n",
       "      <td>372.5</td>\n",
       "      <td>5-1-2012</td>\n",
       "      <td>372.5</td>\n",
       "      <td>6-Dec-11</td>\n",
       "      <td>Yes</td>\n",
       "      <td>Month-to-month</td>\n",
       "      <td>Electronic check</td>\n",
       "      <td>Yes</td>\n",
       "    </tr>\n",
       "    <tr>\n",
       "      <th>12</th>\n",
       "      <td>Cust1213</td>\n",
       "      <td>1</td>\n",
       "      <td>1</td>\n",
       "      <td>1</td>\n",
       "      <td>0</td>\n",
       "      <td>0</td>\n",
       "      <td>0</td>\n",
       "      <td>0</td>\n",
       "      <td>0</td>\n",
       "      <td>0</td>\n",
       "      <td>...</td>\n",
       "      <td>ProfessionalQalification</td>\n",
       "      <td>Female</td>\n",
       "      <td>397.0</td>\n",
       "      <td>5-1-2012</td>\n",
       "      <td>1223.25</td>\n",
       "      <td>7-Oct-11</td>\n",
       "      <td>Yes</td>\n",
       "      <td>Month-to-month</td>\n",
       "      <td>Electronic check</td>\n",
       "      <td>Yes</td>\n",
       "    </tr>\n",
       "    <tr>\n",
       "      <th>18</th>\n",
       "      <td>Cust1219</td>\n",
       "      <td>1</td>\n",
       "      <td>1</td>\n",
       "      <td>1</td>\n",
       "      <td>0</td>\n",
       "      <td>0</td>\n",
       "      <td>0</td>\n",
       "      <td>0</td>\n",
       "      <td>0</td>\n",
       "      <td>0</td>\n",
       "      <td>...</td>\n",
       "      <td>Highschool or below</td>\n",
       "      <td>Male</td>\n",
       "      <td>375.0</td>\n",
       "      <td>5-1-2012</td>\n",
       "      <td>1045.5</td>\n",
       "      <td>7-Oct-11</td>\n",
       "      <td>No</td>\n",
       "      <td>Month-to-month</td>\n",
       "      <td>Mailed check</td>\n",
       "      <td>Yes</td>\n",
       "    </tr>\n",
       "    <tr>\n",
       "      <th>21</th>\n",
       "      <td>Cust1222</td>\n",
       "      <td>1</td>\n",
       "      <td>1</td>\n",
       "      <td>1</td>\n",
       "      <td>1</td>\n",
       "      <td>1</td>\n",
       "      <td>1</td>\n",
       "      <td>0</td>\n",
       "      <td>0</td>\n",
       "      <td>0</td>\n",
       "      <td>...</td>\n",
       "      <td>Highschool or below</td>\n",
       "      <td>Female</td>\n",
       "      <td>472.0</td>\n",
       "      <td>5-1-2012</td>\n",
       "      <td>8087.5</td>\n",
       "      <td>13-Aug-10</td>\n",
       "      <td>Yes</td>\n",
       "      <td>Month-to-month</td>\n",
       "      <td>Electronic check</td>\n",
       "      <td>Yes</td>\n",
       "    </tr>\n",
       "    <tr>\n",
       "      <th>25</th>\n",
       "      <td>Cust1226</td>\n",
       "      <td>1</td>\n",
       "      <td>1</td>\n",
       "      <td>1</td>\n",
       "      <td>0</td>\n",
       "      <td>0</td>\n",
       "      <td>0</td>\n",
       "      <td>0</td>\n",
       "      <td>0</td>\n",
       "      <td>0</td>\n",
       "      <td>...</td>\n",
       "      <td>Highschool or below</td>\n",
       "      <td>Female</td>\n",
       "      <td>371.0</td>\n",
       "      <td>5-1-2012</td>\n",
       "      <td>371</td>\n",
       "      <td>6-Dec-11</td>\n",
       "      <td>Yes</td>\n",
       "      <td>Month-to-month</td>\n",
       "      <td>Electronic check</td>\n",
       "      <td>Yes</td>\n",
       "    </tr>\n",
       "  </tbody>\n",
       "</table>\n",
       "<p>5 rows × 25 columns</p>\n",
       "</div>"
      ],
      "text/plain": [
       "   CustomerID  TypeOfService_DeviceProtection  TypeOfService_HasPhoneService  \\\n",
       "4    Cust1205                               1                              1   \n",
       "12   Cust1213                               1                              1   \n",
       "18   Cust1219                               1                              1   \n",
       "21   Cust1222                               1                              1   \n",
       "25   Cust1226                               1                              1   \n",
       "\n",
       "    TypeOfService_InternetServiceCategory  TypeOfService_StreamingMovies  \\\n",
       "4                                       1                              0   \n",
       "12                                      1                              0   \n",
       "18                                      1                              0   \n",
       "21                                      1                              1   \n",
       "25                                      1                              0   \n",
       "\n",
       "    TypeOfService_StreamingTelevision  TypeOfService_OnlineBackup  \\\n",
       "4                                   0                           0   \n",
       "12                                  0                           0   \n",
       "18                                  0                           0   \n",
       "21                                  1                           1   \n",
       "25                                  0                           0   \n",
       "\n",
       "    TypeOfService_OnlineSecurity  TypeOfService_MultipleLines  \\\n",
       "4                              0                            0   \n",
       "12                             0                            0   \n",
       "18                             0                            0   \n",
       "21                             0                            0   \n",
       "25                             0                            0   \n",
       "\n",
       "    TypeOfService_TechnicalSupport  ...                  Education  Gender  \\\n",
       "4                                0  ...   ProfessionalQalification  Female   \n",
       "12                               0  ...   ProfessionalQalification  Female   \n",
       "18                               0  ...        Highschool or below    Male   \n",
       "21                               0  ...        Highschool or below  Female   \n",
       "25                               0  ...        Highschool or below  Female   \n",
       "\n",
       "    BaseCharges       DOC  TotalCharges        DOE ElectronicBilling  \\\n",
       "4         372.5  5-1-2012         372.5   6-Dec-11               Yes   \n",
       "12        397.0  5-1-2012       1223.25   7-Oct-11               Yes   \n",
       "18        375.0  5-1-2012        1045.5   7-Oct-11                No   \n",
       "21        472.0  5-1-2012        8087.5  13-Aug-10               Yes   \n",
       "25        371.0  5-1-2012           371   6-Dec-11               Yes   \n",
       "\n",
       "      ContractType     PaymentMethod Churn  \n",
       "4   Month-to-month  Electronic check   Yes  \n",
       "12  Month-to-month  Electronic check   Yes  \n",
       "18  Month-to-month      Mailed check   Yes  \n",
       "21  Month-to-month  Electronic check   Yes  \n",
       "25  Month-to-month  Electronic check   Yes  \n",
       "\n",
       "[5 rows x 25 columns]"
      ]
     },
     "execution_count": 20,
     "metadata": {},
     "output_type": "execute_result"
    }
   ],
   "source": [
    "#lets do downsampling as the data is highly imbalanced\n",
    "yes_train = train_account_demo[train_account_demo.Churn == \"Yes\"]\n",
    "no_train = train_account_demo[train_account_demo.Churn == \"No\"]\n",
    "print(yes_train.shape)\n",
    "print(no_train.shape)\n",
    "no_train_1324 = no_train.head(1324)\n",
    "train_final = yes_train.append(no_train_1324)\n",
    "print((train_final.shape))\n",
    "train_final.head()"
   ]
  },
  {
   "cell_type": "markdown",
   "metadata": {},
   "source": [
    "## Missing Value Imputation"
   ]
  },
  {
   "cell_type": "code",
   "execution_count": 21,
   "metadata": {
    "scrolled": false
   },
   "outputs": [
    {
     "data": {
      "text/plain": [
       "CustomerID                               0\n",
       "TypeOfService_DeviceProtection           0\n",
       "TypeOfService_HasPhoneService            0\n",
       "TypeOfService_InternetServiceCategory    0\n",
       "TypeOfService_StreamingMovies            0\n",
       "TypeOfService_StreamingTelevision        0\n",
       "TypeOfService_OnlineBackup               0\n",
       "TypeOfService_OnlineSecurity             0\n",
       "TypeOfService_MultipleLines              0\n",
       "TypeOfService_TechnicalSupport           0\n",
       "Country                                  0\n",
       "State                                    0\n",
       "Retired                                  0\n",
       "HasPartner                               0\n",
       "HasDependents                            0\n",
       "Education                                7\n",
       "Gender                                   2\n",
       "BaseCharges                              0\n",
       "DOC                                      0\n",
       "TotalCharges                             3\n",
       "DOE                                      0\n",
       "ElectronicBilling                        0\n",
       "ContractType                             2\n",
       "PaymentMethod                            0\n",
       "Churn                                    0\n",
       "dtype: int64"
      ]
     },
     "execution_count": 21,
     "metadata": {},
     "output_type": "execute_result"
    }
   ],
   "source": [
    "#Number of missng values in each clumn\n",
    "train_final.isnull().sum()"
   ]
  },
  {
   "cell_type": "code",
   "execution_count": 22,
   "metadata": {},
   "outputs": [
    {
     "name": "stderr",
     "output_type": "stream",
     "text": [
      "C:\\Users\\mohanaditaya\\AppData\\Local\\Continuum\\anaconda3\\lib\\site-packages\\ipykernel_launcher.py:5: SettingWithCopyWarning: \n",
      "A value is trying to be set on a copy of a slice from a DataFrame\n",
      "\n",
      "See the caveats in the documentation: http://pandas.pydata.org/pandas-docs/stable/indexing.html#indexing-view-versus-copy\n",
      "  \"\"\"\n"
     ]
    }
   ],
   "source": [
    "#now lets do missing value analysis\n",
    "train_final[train_final.Country == \"?\"]\n",
    "#there are only two records which have country as ?\n",
    "#it is evident from state that the country is INDIA\n",
    "train_final.Country[train_final.Country == \"?\"] = \"India\""
   ]
  },
  {
   "cell_type": "code",
   "execution_count": 23,
   "metadata": {},
   "outputs": [
    {
     "name": "stdout",
     "output_type": "stream",
     "text": [
      "Maharashtra    2645\n",
      "?                 3\n",
      "Name: State, dtype: int64\n"
     ]
    },
    {
     "data": {
      "text/html": [
       "<div>\n",
       "<style>\n",
       "    .dataframe thead tr:only-child th {\n",
       "        text-align: right;\n",
       "    }\n",
       "\n",
       "    .dataframe thead th {\n",
       "        text-align: left;\n",
       "    }\n",
       "\n",
       "    .dataframe tbody tr th {\n",
       "        vertical-align: top;\n",
       "    }\n",
       "</style>\n",
       "<table border=\"1\" class=\"dataframe\">\n",
       "  <thead>\n",
       "    <tr style=\"text-align: right;\">\n",
       "      <th></th>\n",
       "      <th>CustomerID</th>\n",
       "      <th>TypeOfService_DeviceProtection</th>\n",
       "      <th>TypeOfService_HasPhoneService</th>\n",
       "      <th>TypeOfService_InternetServiceCategory</th>\n",
       "      <th>TypeOfService_StreamingMovies</th>\n",
       "      <th>TypeOfService_StreamingTelevision</th>\n",
       "      <th>TypeOfService_OnlineBackup</th>\n",
       "      <th>TypeOfService_OnlineSecurity</th>\n",
       "      <th>TypeOfService_MultipleLines</th>\n",
       "      <th>TypeOfService_TechnicalSupport</th>\n",
       "      <th>...</th>\n",
       "      <th>Education</th>\n",
       "      <th>Gender</th>\n",
       "      <th>BaseCharges</th>\n",
       "      <th>DOC</th>\n",
       "      <th>TotalCharges</th>\n",
       "      <th>DOE</th>\n",
       "      <th>ElectronicBilling</th>\n",
       "      <th>ContractType</th>\n",
       "      <th>PaymentMethod</th>\n",
       "      <th>Churn</th>\n",
       "    </tr>\n",
       "  </thead>\n",
       "  <tbody>\n",
       "    <tr>\n",
       "      <th>2624</th>\n",
       "      <td>Cust3825</td>\n",
       "      <td>1</td>\n",
       "      <td>1</td>\n",
       "      <td>1</td>\n",
       "      <td>1</td>\n",
       "      <td>1</td>\n",
       "      <td>1</td>\n",
       "      <td>0</td>\n",
       "      <td>0</td>\n",
       "      <td>0</td>\n",
       "      <td>...</td>\n",
       "      <td>Graduation</td>\n",
       "      <td>Female</td>\n",
       "      <td>501.25</td>\n",
       "      <td>5-1-2012</td>\n",
       "      <td>11938.75</td>\n",
       "      <td>16-Dec-09</td>\n",
       "      <td>Yes</td>\n",
       "      <td>Month-to-month</td>\n",
       "      <td>Electronic check</td>\n",
       "      <td>Yes</td>\n",
       "    </tr>\n",
       "    <tr>\n",
       "      <th>4951</th>\n",
       "      <td>Cust6152</td>\n",
       "      <td>1</td>\n",
       "      <td>1</td>\n",
       "      <td>1</td>\n",
       "      <td>1</td>\n",
       "      <td>0</td>\n",
       "      <td>0</td>\n",
       "      <td>0</td>\n",
       "      <td>0</td>\n",
       "      <td>0</td>\n",
       "      <td>...</td>\n",
       "      <td>Masters</td>\n",
       "      <td>Female</td>\n",
       "      <td>276.00</td>\n",
       "      <td>5-1-2012</td>\n",
       "      <td>2641.75</td>\n",
       "      <td>11-Mar-11</td>\n",
       "      <td>No</td>\n",
       "      <td>Month-to-month</td>\n",
       "      <td>Credit card (automatic)</td>\n",
       "      <td>Yes</td>\n",
       "    </tr>\n",
       "    <tr>\n",
       "      <th>1495</th>\n",
       "      <td>Cust2696</td>\n",
       "      <td>1</td>\n",
       "      <td>1</td>\n",
       "      <td>1</td>\n",
       "      <td>1</td>\n",
       "      <td>1</td>\n",
       "      <td>0</td>\n",
       "      <td>0</td>\n",
       "      <td>0</td>\n",
       "      <td>0</td>\n",
       "      <td>...</td>\n",
       "      <td>ProfessionalQalification</td>\n",
       "      <td>Male</td>\n",
       "      <td>477.50</td>\n",
       "      <td>5-1-2012</td>\n",
       "      <td>908.25</td>\n",
       "      <td>6-Nov-11</td>\n",
       "      <td>Yes</td>\n",
       "      <td>Month-to-month</td>\n",
       "      <td>Credit card (automatic)</td>\n",
       "      <td>No</td>\n",
       "    </tr>\n",
       "  </tbody>\n",
       "</table>\n",
       "<p>3 rows × 25 columns</p>\n",
       "</div>"
      ],
      "text/plain": [
       "     CustomerID  TypeOfService_DeviceProtection  \\\n",
       "2624   Cust3825                               1   \n",
       "4951   Cust6152                               1   \n",
       "1495   Cust2696                               1   \n",
       "\n",
       "      TypeOfService_HasPhoneService  TypeOfService_InternetServiceCategory  \\\n",
       "2624                              1                                      1   \n",
       "4951                              1                                      1   \n",
       "1495                              1                                      1   \n",
       "\n",
       "      TypeOfService_StreamingMovies  TypeOfService_StreamingTelevision  \\\n",
       "2624                              1                                  1   \n",
       "4951                              1                                  0   \n",
       "1495                              1                                  1   \n",
       "\n",
       "      TypeOfService_OnlineBackup  TypeOfService_OnlineSecurity  \\\n",
       "2624                           1                             0   \n",
       "4951                           0                             0   \n",
       "1495                           0                             0   \n",
       "\n",
       "      TypeOfService_MultipleLines  TypeOfService_TechnicalSupport  ...   \\\n",
       "2624                            0                               0  ...    \n",
       "4951                            0                               0  ...    \n",
       "1495                            0                               0  ...    \n",
       "\n",
       "                     Education  Gender  BaseCharges       DOC  TotalCharges  \\\n",
       "2624                Graduation  Female       501.25  5-1-2012      11938.75   \n",
       "4951                   Masters  Female       276.00  5-1-2012       2641.75   \n",
       "1495  ProfessionalQalification    Male       477.50  5-1-2012        908.25   \n",
       "\n",
       "            DOE ElectronicBilling    ContractType            PaymentMethod  \\\n",
       "2624  16-Dec-09               Yes  Month-to-month         Electronic check   \n",
       "4951  11-Mar-11                No  Month-to-month  Credit card (automatic)   \n",
       "1495   6-Nov-11               Yes  Month-to-month  Credit card (automatic)   \n",
       "\n",
       "     Churn  \n",
       "2624   Yes  \n",
       "4951   Yes  \n",
       "1495    No  \n",
       "\n",
       "[3 rows x 25 columns]"
      ]
     },
     "execution_count": 23,
     "metadata": {},
     "output_type": "execute_result"
    }
   ],
   "source": [
    "#having look at state values\n",
    "print(train_final.State.value_counts())\n",
    "train_final[train_final.State == \"?\"]"
   ]
  },
  {
   "cell_type": "code",
   "execution_count": 24,
   "metadata": {},
   "outputs": [
    {
     "name": "stderr",
     "output_type": "stream",
     "text": [
      "C:\\Users\\mohanaditaya\\AppData\\Local\\Continuum\\anaconda3\\lib\\site-packages\\ipykernel_launcher.py:2: SettingWithCopyWarning: \n",
      "A value is trying to be set on a copy of a slice from a DataFrame\n",
      "\n",
      "See the caveats in the documentation: http://pandas.pydata.org/pandas-docs/stable/indexing.html#indexing-view-versus-copy\n",
      "  \n"
     ]
    }
   ],
   "source": [
    "#we can replace ? with maharastra as the whole data consists only maharashtra\n",
    "train_final.State[train_final.State == \"?\"] = \"Maharashtra\""
   ]
  },
  {
   "cell_type": "code",
   "execution_count": 25,
   "metadata": {},
   "outputs": [],
   "source": [
    "#as the NA values are less for other columns\n",
    "#replacing NA with mode for every column\n",
    "for column in train_final.columns:\n",
    "    train_final[column].fillna(train_final[column].mode()[0], inplace=True)"
   ]
  },
  {
   "cell_type": "code",
   "execution_count": 26,
   "metadata": {},
   "outputs": [
    {
     "name": "stderr",
     "output_type": "stream",
     "text": [
      "C:\\Users\\mohanaditaya\\AppData\\Local\\Continuum\\anaconda3\\lib\\site-packages\\ipykernel_launcher.py:3: SettingWithCopyWarning: \n",
      "A value is trying to be set on a copy of a slice from a DataFrame\n",
      "\n",
      "See the caveats in the documentation: http://pandas.pydata.org/pandas-docs/stable/indexing.html#indexing-view-versus-copy\n",
      "  This is separate from the ipykernel package so we can avoid doing imports until\n"
     ]
    }
   ],
   "source": [
    "#replacing the MISSINGVAL in totalcharges column with the minimum value of the column i.e 100\n",
    "#print(train_final.TotalCharges.min())\n",
    "train_final.TotalCharges[train_final.TotalCharges == \"MISSINGVAL\"] =100\n",
    "#train_final['TotalCharges'] = train_final['TotalCharges'].map({'MISSINGVAL': 100})"
   ]
  },
  {
   "cell_type": "markdown",
   "metadata": {},
   "source": [
    "# Data Pre-processing"
   ]
  },
  {
   "cell_type": "code",
   "execution_count": 27,
   "metadata": {},
   "outputs": [],
   "source": [
    "#Now lets convert the dataframe columns into the respective format\n",
    "\n",
    "categoricalFeatureNames = [\"Country\",\"State\",\"Retired\",\"HasPartner\",\"HasDependents\",\"Education\", \"Gender\",\"ElectronicBilling\",\n",
    "                          \"ContractType\",\"PaymentMethod\"]\n",
    "\n",
    "#\"Retired\",\"HasPartner\",\"HasDependents\",\"Education\",\"Gender\",\"BaseCharges\",\"TotalCharges\",\n",
    "#                         \"ElectronicBilling\",\"ContractType\"\n",
    "\n",
    "\n",
    "numericalFeatureNames = [\"TotalCharges\",\"BaseCharges\"]\n",
    "#these are the numerical attributes\n",
    "\n",
    "#convert the attributes listed above to categorical form\n",
    "for var in categoricalFeatureNames:\n",
    "    train_final[var] = train_final[var].astype(\"category\")\n",
    "    \n",
    "#convert the attributes listed above to categorical form\n",
    "for nar in numericalFeatureNames:\n",
    "    train_final[nar] = train_final[nar].astype(\"float64\")"
   ]
  },
  {
   "cell_type": "code",
   "execution_count": 28,
   "metadata": {
    "collapsed": true
   },
   "outputs": [],
   "source": [
    "train_final['Churn'] = train_final['Churn'].map({'Yes': 1, 'No':0})\n",
    "y = train_final[['Churn']]"
   ]
  },
  {
   "cell_type": "code",
   "execution_count": 29,
   "metadata": {},
   "outputs": [],
   "source": [
    "train_final = pd.get_dummies(train_final, prefix=['Retired','HasPartner','HasDependents','Education','Gender','ElectronicBilling','ContractType','PaymentMethod'],\n",
    "               columns=['Retired','HasPartner','HasDependents','Education','Gender','ElectronicBilling','ContractType','PaymentMethod'])\n",
    "\n",
    "data_final = train_final.drop(['CustomerID','Country','State','DOC','DOE','Churn'], axis=1)"
   ]
  },
  {
   "cell_type": "code",
   "execution_count": 30,
   "metadata": {},
   "outputs": [
    {
     "data": {
      "text/plain": [
       "[Text(0,0.5,'Count'),\n",
       " Text(0.5,0,'variableTypeariable Type'),\n",
       " Text(0.5,1,'Variables DataType Count')]"
      ]
     },
     "execution_count": 30,
     "metadata": {},
     "output_type": "execute_result"
    },
    {
     "data": {
      "image/png": "[encoded data removed]",
      "text/plain": [
       "<matplotlib.figure.Figure at 0x37d259c630>"
      ]
     },
     "metadata": {},
     "output_type": "display_data"
    }
   ],
   "source": [
    "#visualization on the typed of objects in dataframe\n",
    "dataTypeDf = pd.DataFrame(train_final.dtypes.value_counts()).reset_index().rename(columns={\"index\":\"variableType\",0:\"count\"})\n",
    "fig,ax = plt.subplots()\n",
    "fig.set_size_inches(12,5)\n",
    "sns.barplot(data=dataTypeDf,x=\"variableType\",y=\"count\",ax=ax)\n",
    "ax.set(xlabel='variableTypeariable Type', ylabel='Count',title=\"Variables DataType Count\")"
   ]
  },
  {
   "cell_type": "markdown",
   "metadata": {},
   "source": [
    "## Test Data"
   ]
  },
  {
   "cell_type": "code",
   "execution_count": 31,
   "metadata": {
    "collapsed": true
   },
   "outputs": [],
   "source": [
    "train = pd.read_csv(\"Test.csv\")\n",
    "Test_AccountInfo = pd.read_csv(\"Test_AccountInfo.csv\")\n",
    "Test_Demographics = pd.read_csv(\"Test_Demographics.csv\")\n",
    "Test_ServicesOptedFor = pd.read_csv(\"Test_ServicesOptedFor.csv\")"
   ]
  },
  {
   "cell_type": "code",
   "execution_count": 32,
   "metadata": {
    "collapsed": true
   },
   "outputs": [],
   "source": [
    "#merging two dataframes with customerid attribute\n",
    "test_test_account= pd.merge(Test_AccountInfo,train,on=\"CustomerID\")\n",
    "#renaming a column to match\n",
    "Test_Demographics = Test_Demographics.rename(columns={ \"HouseholdID\" : \"CustomerID\"})\n",
    "#Train_Demographics['HouseholdID'] = \"CustomerID\"\n",
    "test_account_demo = pd.merge(Test_Demographics,test_test_account, on=\"CustomerID\")"
   ]
  },
  {
   "cell_type": "code",
   "execution_count": 33,
   "metadata": {
    "collapsed": true
   },
   "outputs": [],
   "source": [
    "Test_ServicesOptedFor.SeviceDetails[Test_ServicesOptedFor.SeviceDetails == \"1\"] = \"Yes\"\n",
    "Test_ServicesOptedFor.SeviceDetails[Test_ServicesOptedFor.SeviceDetails == \"No internet service\"] = \"No\"\n",
    "Test_ServicesOptedFor.SeviceDetails[Test_ServicesOptedFor.SeviceDetails == \"0\"] = \"No\"\n",
    "Test_ServicesOptedFor.SeviceDetails[Test_ServicesOptedFor.SeviceDetails == \"Fiber optic\"] = \"Yes\"\n",
    "Test_ServicesOptedFor.SeviceDetails[Test_ServicesOptedFor.SeviceDetails == \"DSL\"] = \"Yes\"\n",
    "Test_ServicesOptedFor.SeviceDetails[Test_ServicesOptedFor.SeviceDetails == \"No phone service\"] = \"No\""
   ]
  },
  {
   "cell_type": "code",
   "execution_count": 34,
   "metadata": {
    "collapsed": true
   },
   "outputs": [],
   "source": [
    "yes_test_service = Test_ServicesOptedFor[Test_ServicesOptedFor.SeviceDetails != 'No']\n",
    "yes_test_service = yes_test_service.sort_values(by=['TypeOfService'], ascending=['True'])\n",
    "fff = pd.get_dummies(yes_test_service, prefix=['TypeOfService'],\n",
    "               columns=['TypeOfService'])"
   ]
  },
  {
   "cell_type": "code",
   "execution_count": 35,
   "metadata": {},
   "outputs": [
    {
     "data": {
      "text/html": [
       "<div>\n",
       "<style>\n",
       "    .dataframe thead tr:only-child th {\n",
       "        text-align: right;\n",
       "    }\n",
       "\n",
       "    .dataframe thead th {\n",
       "        text-align: left;\n",
       "    }\n",
       "\n",
       "    .dataframe tbody tr th {\n",
       "        vertical-align: top;\n",
       "    }\n",
       "</style>\n",
       "<table border=\"1\" class=\"dataframe\">\n",
       "  <thead>\n",
       "    <tr style=\"text-align: right;\">\n",
       "      <th></th>\n",
       "      <th>CustomerID</th>\n",
       "      <th>TypeOfService_DeviceProtection</th>\n",
       "      <th>TypeOfService_HasPhoneService</th>\n",
       "      <th>TypeOfService_InternetServiceCategory</th>\n",
       "      <th>TypeOfService_StreamingMovies</th>\n",
       "      <th>TypeOfService_StreamingTelevision</th>\n",
       "      <th>TypeOfService_OnlineBackup</th>\n",
       "      <th>TypeOfService_OnlineSecurity</th>\n",
       "      <th>TypeOfService_MultipleLines</th>\n",
       "      <th>TypeOfService_TechnicalSupport</th>\n",
       "      <th>...</th>\n",
       "      <th>HasDependents</th>\n",
       "      <th>Education</th>\n",
       "      <th>Gender</th>\n",
       "      <th>BaseCharges</th>\n",
       "      <th>DOC</th>\n",
       "      <th>TotalCharges</th>\n",
       "      <th>DOE</th>\n",
       "      <th>ElectronicBilling</th>\n",
       "      <th>ContractType</th>\n",
       "      <th>PaymentMethod</th>\n",
       "    </tr>\n",
       "  </thead>\n",
       "  <tbody>\n",
       "    <tr>\n",
       "      <th>0</th>\n",
       "      <td>Cust11201</td>\n",
       "      <td>1</td>\n",
       "      <td>1</td>\n",
       "      <td>1</td>\n",
       "      <td>1</td>\n",
       "      <td>0</td>\n",
       "      <td>0</td>\n",
       "      <td>0</td>\n",
       "      <td>0</td>\n",
       "      <td>0</td>\n",
       "      <td>...</td>\n",
       "      <td>2</td>\n",
       "      <td>Graduation</td>\n",
       "      <td>Male</td>\n",
       "      <td>284.75</td>\n",
       "      <td>5-1-2012</td>\n",
       "      <td>9447.5</td>\n",
       "      <td>21-Mar-09</td>\n",
       "      <td>No</td>\n",
       "      <td>One year</td>\n",
       "      <td>Mailed check</td>\n",
       "    </tr>\n",
       "    <tr>\n",
       "      <th>1</th>\n",
       "      <td>Cust11202</td>\n",
       "      <td>1</td>\n",
       "      <td>1</td>\n",
       "      <td>1</td>\n",
       "      <td>1</td>\n",
       "      <td>0</td>\n",
       "      <td>0</td>\n",
       "      <td>0</td>\n",
       "      <td>0</td>\n",
       "      <td>0</td>\n",
       "      <td>...</td>\n",
       "      <td>1</td>\n",
       "      <td>Masters</td>\n",
       "      <td>Male</td>\n",
       "      <td>280.75</td>\n",
       "      <td>5-1-2012</td>\n",
       "      <td>17439.75</td>\n",
       "      <td>2-Dec-06</td>\n",
       "      <td>No</td>\n",
       "      <td>One year</td>\n",
       "      <td>Bank transfer (automatic)</td>\n",
       "    </tr>\n",
       "  </tbody>\n",
       "</table>\n",
       "<p>2 rows × 24 columns</p>\n",
       "</div>"
      ],
      "text/plain": [
       "  CustomerID  TypeOfService_DeviceProtection  TypeOfService_HasPhoneService  \\\n",
       "0  Cust11201                               1                              1   \n",
       "1  Cust11202                               1                              1   \n",
       "\n",
       "   TypeOfService_InternetServiceCategory  TypeOfService_StreamingMovies  \\\n",
       "0                                      1                              1   \n",
       "1                                      1                              1   \n",
       "\n",
       "   TypeOfService_StreamingTelevision  TypeOfService_OnlineBackup  \\\n",
       "0                                  0                           0   \n",
       "1                                  0                           0   \n",
       "\n",
       "   TypeOfService_OnlineSecurity  TypeOfService_MultipleLines  \\\n",
       "0                             0                            0   \n",
       "1                             0                            0   \n",
       "\n",
       "   TypeOfService_TechnicalSupport            ...             HasDependents  \\\n",
       "0                               0            ...                         2   \n",
       "1                               0            ...                         1   \n",
       "\n",
       "    Education  Gender  BaseCharges       DOC TotalCharges        DOE  \\\n",
       "0  Graduation    Male       284.75  5-1-2012       9447.5  21-Mar-09   \n",
       "1     Masters    Male       280.75  5-1-2012     17439.75   2-Dec-06   \n",
       "\n",
       "   ElectronicBilling ContractType              PaymentMethod  \n",
       "0                 No     One year               Mailed check  \n",
       "1                 No     One year  Bank transfer (automatic)  \n",
       "\n",
       "[2 rows x 24 columns]"
      ]
     },
     "execution_count": 35,
     "metadata": {},
     "output_type": "execute_result"
    }
   ],
   "source": [
    "xxx = fff.groupby('CustomerID')['SeviceDetails'].apply(lambda x: pd.DataFrame(x.values)).unstack().reset_index()\n",
    "xxx.columns = xxx.columns.droplevel()\n",
    "xxx.columns = ['CustomerID','TypeOfService_DeviceProtection', 'TypeOfService_HasPhoneService', \n",
    "              'TypeOfService_InternetServiceCategory','TypeOfService_StreamingMovies','TypeOfService_StreamingTelevision',\n",
    "              'TypeOfService_OnlineBackup','TypeOfService_OnlineSecurity',\n",
    "             'TypeOfService_MultipleLines',\n",
    "              'TypeOfService_TechnicalSupport']\n",
    "xxx = xxx.replace({'Yes': 1, None: 0})\n",
    "test_account_demo = pd.merge(xxx,test_account_demo, on=\"CustomerID\",how='inner')\n",
    "test_account_demo.head(2)"
   ]
  },
  {
   "cell_type": "code",
   "execution_count": 36,
   "metadata": {
    "scrolled": true
   },
   "outputs": [
    {
     "data": {
      "text/plain": [
       "CustomerID                               0\n",
       "TypeOfService_DeviceProtection           0\n",
       "TypeOfService_HasPhoneService            0\n",
       "TypeOfService_InternetServiceCategory    0\n",
       "TypeOfService_StreamingMovies            0\n",
       "TypeOfService_StreamingTelevision        0\n",
       "TypeOfService_OnlineBackup               0\n",
       "TypeOfService_OnlineSecurity             0\n",
       "TypeOfService_MultipleLines              0\n",
       "TypeOfService_TechnicalSupport           0\n",
       "Country                                  0\n",
       "State                                    0\n",
       "Retired                                  0\n",
       "HasPartner                               0\n",
       "HasDependents                            0\n",
       "Education                                4\n",
       "Gender                                   1\n",
       "BaseCharges                              0\n",
       "DOC                                      0\n",
       "TotalCharges                             0\n",
       "DOE                                      0\n",
       "ElectronicBilling                        0\n",
       "ContractType                             1\n",
       "PaymentMethod                            0\n",
       "dtype: int64"
      ]
     },
     "execution_count": 36,
     "metadata": {},
     "output_type": "execute_result"
    }
   ],
   "source": [
    "test_account_demo.isnull().sum()"
   ]
  },
  {
   "cell_type": "code",
   "execution_count": 37,
   "metadata": {},
   "outputs": [],
   "source": [
    "#as the NA values are less \n",
    "#replacing NA with mode for every column\n",
    "for column in test_account_demo.columns:\n",
    "    test_account_demo[column].fillna(test_account_demo[column].mode()[0], inplace=True)"
   ]
  },
  {
   "cell_type": "code",
   "execution_count": 38,
   "metadata": {},
   "outputs": [
    {
     "name": "stderr",
     "output_type": "stream",
     "text": [
      "C:\\Users\\mohanaditaya\\AppData\\Local\\Continuum\\anaconda3\\lib\\site-packages\\ipykernel_launcher.py:1: SettingWithCopyWarning: \n",
      "A value is trying to be set on a copy of a slice from a DataFrame\n",
      "\n",
      "See the caveats in the documentation: http://pandas.pydata.org/pandas-docs/stable/indexing.html#indexing-view-versus-copy\n",
      "  \"\"\"Entry point for launching an IPython kernel.\n",
      "C:\\Users\\mohanaditaya\\AppData\\Local\\Continuum\\anaconda3\\lib\\site-packages\\ipykernel_launcher.py:2: SettingWithCopyWarning: \n",
      "A value is trying to be set on a copy of a slice from a DataFrame\n",
      "\n",
      "See the caveats in the documentation: http://pandas.pydata.org/pandas-docs/stable/indexing.html#indexing-view-versus-copy\n",
      "  \n"
     ]
    }
   ],
   "source": [
    "test_account_demo.Country[test_account_demo.Country == \"?\"] = \"India\"\n",
    "test_account_demo.TotalCharges[test_account_demo.TotalCharges == \"MISSINGVAL\"] = 100"
   ]
  },
  {
   "cell_type": "code",
   "execution_count": 39,
   "metadata": {},
   "outputs": [],
   "source": [
    "#Now lets convert the dataframe columns into the respective format\n",
    "\n",
    "categoricalFeatureNames = [\"Country\",\"State\",\"Retired\",\"HasPartner\",\"HasDependents\",\"Education\", \"Gender\",\"ElectronicBilling\",\n",
    "                          \"ContractType\",\"PaymentMethod\"]\n",
    "\n",
    "#\"Retired\",\"HasPartner\",\"HasDependents\",\"Education\",\"Gender\",\"BaseCharges\",\"TotalCharges\",\n",
    "#                         \"ElectronicBilling\",\"ContractType\"\n",
    "\n",
    "\n",
    "numericalFeatureNames = [\"TotalCharges\",\"BaseCharges\"]\n",
    "#these are the numerical attributes\n",
    "\n",
    "#convert the attributes listed above to categorical form\n",
    "for var in categoricalFeatureNames:\n",
    "    test_account_demo[var] = test_account_demo[var].astype(\"category\")\n",
    "    \n",
    "#convert the attributes listed above to categorical form\n",
    "for nar in numericalFeatureNames:\n",
    "    test_account_demo[nar] = test_account_demo[nar].astype(\"float64\")"
   ]
  },
  {
   "cell_type": "code",
   "execution_count": 40,
   "metadata": {},
   "outputs": [],
   "source": [
    "test_account_demo = pd.get_dummies(test_account_demo, prefix=['Retiired','HasPartner','HasDependents','Education','Gender','ElectronicBilling','ContractType','PaymentMethod'],\n",
    "               columns=['Retired','HasPartner','HasDependents','Education','Gender','ElectronicBilling','ContractType','PaymentMethod'])\n",
    "\n",
    "test_final = test_account_demo.drop(['CustomerID','Country','State','DOC','DOE'], axis=1)\n",
    "test_final['PaymentMethod_Credit card (automatic)'] = 0"
   ]
  },
  {
   "cell_type": "code",
   "execution_count": null,
   "metadata": {},
   "outputs": [],
   "source": []
  },
  {
   "cell_type": "code",
   "execution_count": 41,
   "metadata": {},
   "outputs": [
    {
     "name": "stdout",
     "output_type": "stream",
     "text": [
      "(1986, 33)\n",
      "(662, 33)\n",
      "(1986, 1)\n",
      "(662, 1)\n"
     ]
    },
    {
     "name": "stderr",
     "output_type": "stream",
     "text": [
      "C:\\Users\\mohanaditaya\\AppData\\Local\\Continuum\\anaconda3\\lib\\site-packages\\sklearn\\cross_validation.py:41: DeprecationWarning: This module was deprecated in version 0.18 in favor of the model_selection module into which all the refactored classes and functions are moved. Also note that the interface of the new CV iterators are different from that of this module. This module will be removed in 0.20.\n",
      "  \"This module will be removed in 0.20.\", DeprecationWarning)\n"
     ]
    }
   ],
   "source": [
    "from sklearn.cross_validation import train_test_split\n",
    "X_train, X_test, y_train, y_test = train_test_split(data_final, y, random_state=1)\n",
    "print(X_train.shape)\n",
    "print(X_test.shape)\n",
    "print(y_train.shape)\n",
    "print(y_test.shape)"
   ]
  },
  {
   "cell_type": "markdown",
   "metadata": {},
   "source": [
    "## Random Forest"
   ]
  },
  {
   "cell_type": "code",
   "execution_count": 42,
   "metadata": {
    "scrolled": true
   },
   "outputs": [
    {
     "name": "stderr",
     "output_type": "stream",
     "text": [
      "C:\\Users\\mohanaditaya\\AppData\\Local\\Continuum\\anaconda3\\lib\\site-packages\\ipykernel_launcher.py:4: DataConversionWarning: A column-vector y was passed when a 1d array was expected. Please change the shape of y to (n_samples,), for example using ravel().\n",
      "  after removing the cwd from sys.path.\n"
     ]
    },
    {
     "data": {
      "text/plain": [
       "RandomForestClassifier(bootstrap=True, class_weight=None, criterion='gini',\n",
       "            max_depth=None, max_features='auto', max_leaf_nodes=None,\n",
       "            min_impurity_decrease=0.0, min_impurity_split=None,\n",
       "            min_samples_leaf=1, min_samples_split=2,\n",
       "            min_weight_fraction_leaf=0.0, n_estimators=600, n_jobs=1,\n",
       "            oob_score=False, random_state=None, verbose=0,\n",
       "            warm_start=False)"
      ]
     },
     "execution_count": 42,
     "metadata": {},
     "output_type": "execute_result"
    }
   ],
   "source": [
    "#initializing reandom forest\n",
    "from sklearn.ensemble import RandomForestClassifier\n",
    "RF_clf = RandomForestClassifier(n_estimators=600)\n",
    "RF_clf.fit(X_train, y_train)"
   ]
  },
  {
   "cell_type": "code",
   "execution_count": 43,
   "metadata": {},
   "outputs": [
    {
     "name": "stdout",
     "output_type": "stream",
     "text": [
      "             precision    recall  f1-score   support\n",
      "\n",
      "          0       0.75      0.72      0.73       336\n",
      "          1       0.72      0.75      0.74       326\n",
      "\n",
      "avg / total       0.74      0.74      0.74       662\n",
      "\n",
      "0.7356495468277946\n"
     ]
    }
   ],
   "source": [
    "#predicting on train and test data\n",
    "#RF_clf.fit(X_train_dtm, y_train)\n",
    "y_rf_pred_test = RF_clf.predict(X_test)\n",
    "y_rf_pred_train = RF_clf.predict(X_train)\n",
    "from sklearn.metrics import classification_report\n",
    "from sklearn.metrics import confusion_matrix\n",
    "print(classification_report(y_test, y_rf_pred_test))\n",
    "#confusion_matrix = confusion_matrix(y_test, y_rf_pred_test)\n",
    "#print(confusion_matrix)\n",
    "print(metrics.accuracy_score(y_test, y_rf_pred_test))"
   ]
  },
  {
   "cell_type": "code",
   "execution_count": 44,
   "metadata": {},
   "outputs": [
    {
     "data": {
      "text/plain": [
       "<matplotlib.axes._subplots.AxesSubplot at 0x37d0082128>"
      ]
     },
     "execution_count": 44,
     "metadata": {},
     "output_type": "execute_result"
    },
    {
     "data": {
      "image/png": "[encoded data removed]",
      "text/plain": [
       "<matplotlib.figure.Figure at 0x37d281b978>"
      ]
     },
     "metadata": {},
     "output_type": "display_data"
    }
   ],
   "source": [
    "cm = metrics.confusion_matrix(y_test, y_rf_pred_test)\n",
    "sns.set(font_scale=1.4)#for label size\n",
    "sns.heatmap(cm,annot=True,annot_kws={\"size\": 16})# font size"
   ]
  },
  {
   "cell_type": "code",
   "execution_count": 45,
   "metadata": {},
   "outputs": [
    {
     "name": "stderr",
     "output_type": "stream",
     "text": [
      "C:\\Users\\mohanaditaya\\AppData\\Local\\Continuum\\anaconda3\\lib\\site-packages\\ipykernel_launcher.py:6: SettingWithCopyWarning: \n",
      "A value is trying to be set on a copy of a slice from a DataFrame.\n",
      "Try using .loc[row_indexer,col_indexer] = value instead\n",
      "\n",
      "See the caveats in the documentation: http://pandas.pydata.org/pandas-docs/stable/indexing.html#indexing-view-versus-copy\n",
      "  \n",
      "C:\\Users\\mohanaditaya\\AppData\\Local\\Continuum\\anaconda3\\lib\\site-packages\\ipykernel_launcher.py:7: SettingWithCopyWarning: \n",
      "A value is trying to be set on a copy of a slice from a DataFrame.\n",
      "Try using .loc[row_indexer,col_indexer] = value instead\n",
      "\n",
      "See the caveats in the documentation: http://pandas.pydata.org/pandas-docs/stable/indexing.html#indexing-view-versus-copy\n",
      "  import sys\n"
     ]
    }
   ],
   "source": [
    "probs_rf = RF_clf.predict_proba(test_final)\n",
    "probs = probs_rf[:,1]  #taking a column\n",
    "probs[probs > 0.5] =1  #setting thresholds\n",
    "probs[probs <= 0.5] = 0\n",
    "submission = test_account_demo[[\"CustomerID\"]]\n",
    "submission['Churn'] = probs\n",
    "submission['Churn'] = submission['Churn'].map({1:\"Yes\",0:\"No\"})\n",
    "#train_final['Churn'] = train_final['Churn'].map({'Yes': 1, 'No':0})\n",
    "submission.to_csv(\"predictions.csv\",index=False)"
   ]
  },
  {
   "cell_type": "code",
   "execution_count": null,
   "metadata": {
    "scrolled": true
   },
   "outputs": [],
   "source": []
  },
  {
   "cell_type": "markdown",
   "metadata": {},
   "source": [
    "## Logistic Regression"
   ]
  },
  {
   "cell_type": "code",
   "execution_count": 46,
   "metadata": {
    "collapsed": true
   },
   "outputs": [],
   "source": [
    "# import and instantiate a logistic regression model\n",
    "from sklearn.linear_model import LogisticRegression\n",
    "seed=12\n",
    "logreg = LogisticRegression(C=1, random_state=12, class_weight='balanced')"
   ]
  },
  {
   "cell_type": "code",
   "execution_count": 47,
   "metadata": {},
   "outputs": [
    {
     "name": "stderr",
     "output_type": "stream",
     "text": [
      "C:\\Users\\mohanaditaya\\AppData\\Local\\Continuum\\anaconda3\\lib\\site-packages\\sklearn\\utils\\validation.py:578: DataConversionWarning: A column-vector y was passed when a 1d array was expected. Please change the shape of y to (n_samples, ), for example using ravel().\n",
      "  y = column_or_1d(y, warn=True)\n"
     ]
    },
    {
     "data": {
      "text/plain": [
       "LogisticRegression(C=1, class_weight='balanced', dual=False,\n",
       "          fit_intercept=True, intercept_scaling=1, max_iter=100,\n",
       "          multi_class='ovr', n_jobs=1, penalty='l2', random_state=12,\n",
       "          solver='liblinear', tol=0.0001, verbose=0, warm_start=False)"
      ]
     },
     "execution_count": 47,
     "metadata": {},
     "output_type": "execute_result"
    }
   ],
   "source": [
    "logreg.fit(X_train, y_train)"
   ]
  },
  {
   "cell_type": "code",
   "execution_count": 48,
   "metadata": {},
   "outputs": [
    {
     "data": {
      "image/png": "[encoded data removed]",
      "text/plain": [
       "<matplotlib.figure.Figure at 0x37d26c4be0>"
      ]
     },
     "metadata": {},
     "output_type": "display_data"
    }
   ],
   "source": [
    "from sklearn.metrics import roc_auc_score\n",
    "from sklearn.metrics import roc_curve\n",
    "logit_roc_auc = roc_auc_score(y_test, logreg.predict(X_test))\n",
    "fpr, tpr, thresholds = roc_curve(y, logreg.predict_proba(data_final)[:,1])\n",
    "plt.figure()\n",
    "plt.plot(fpr, tpr, label='Logistic Regression (area = %0.2f)' % logit_roc_auc)\n",
    "plt.plot([0, 1], [0, 1],'r--')\n",
    "plt.xlim([0.0, 1.0])\n",
    "plt.ylim([0.0, 1.05])\n",
    "plt.xlabel('False Positive Rate')\n",
    "plt.ylabel('True Positive Rate')\n",
    "plt.title('Receiver operating characteristic')\n",
    "plt.legend(loc=\"lower right\")\n",
    "plt.savefig('Log_ROC')\n",
    "plt.show()"
   ]
  },
  {
   "cell_type": "markdown",
   "metadata": {},
   "source": [
    "#### with 0.5 probability the accuracy is 75% and recall is  75%\n",
    "#### with 0.35 accuracy is 71  and recall is 85%"
   ]
  },
  {
   "cell_type": "code",
   "execution_count": 49,
   "metadata": {
    "scrolled": true
   },
   "outputs": [
    {
     "name": "stdout",
     "output_type": "stream",
     "text": [
      "0.7175226586102719\n",
      "             precision    recall  f1-score   support\n",
      "\n",
      "          0       0.80      0.59      0.68       336\n",
      "          1       0.67      0.85      0.75       326\n",
      "\n",
      "avg / total       0.74      0.72      0.71       662\n",
      "\n"
     ]
    }
   ],
   "source": [
    "y_log_pred_train = logreg.predict(X_train)\n",
    "ii = logreg.predict_proba(X_test)\n",
    "probs_log = ii[:,1]  #taking a column\n",
    "probs_log[probs_log > 0.35] =1  #setting thresholds\n",
    "probs_log[probs_log <= 0.35] = 0\n",
    "y_log_pred_test = logreg.predict(X_test)\n",
    "print(metrics.accuracy_score(y_test, probs_log))\n",
    "print(classification_report(y_test, probs_log))"
   ]
  },
  {
   "cell_type": "code",
   "execution_count": 50,
   "metadata": {},
   "outputs": [
    {
     "name": "stderr",
     "output_type": "stream",
     "text": [
      "C:\\Users\\mohanaditaya\\AppData\\Local\\Continuum\\anaconda3\\lib\\site-packages\\ipykernel_launcher.py:9: SettingWithCopyWarning: \n",
      "A value is trying to be set on a copy of a slice from a DataFrame.\n",
      "Try using .loc[row_indexer,col_indexer] = value instead\n",
      "\n",
      "See the caveats in the documentation: http://pandas.pydata.org/pandas-docs/stable/indexing.html#indexing-view-versus-copy\n",
      "  if __name__ == '__main__':\n",
      "C:\\Users\\mohanaditaya\\AppData\\Local\\Continuum\\anaconda3\\lib\\site-packages\\ipykernel_launcher.py:10: SettingWithCopyWarning: \n",
      "A value is trying to be set on a copy of a slice from a DataFrame.\n",
      "Try using .loc[row_indexer,col_indexer] = value instead\n",
      "\n",
      "See the caveats in the documentation: http://pandas.pydata.org/pandas-docs/stable/indexing.html#indexing-view-versus-copy\n",
      "  # Remove the CWD from sys.path while we load stuff.\n"
     ]
    }
   ],
   "source": [
    "#y_log_pred_test = logreg.predict(test_account_demo)\n",
    "ii = logreg.predict_proba(test_final)\n",
    "probs_log = ii[:,1]  #taking a column\n",
    "probs_log[probs_log > 0.35] =1  #setting thresholds\n",
    "probs_log[probs_log <= 0.35] = 0\n",
    "#y_log_pred_test = logreg.predict(X_test)\n",
    "\n",
    "submission = test_account_demo[[\"CustomerID\"]]\n",
    "submission['Churn'] = probs_log\n",
    "submission['Churn'] = submission['Churn'].map({1:\"Yes\",0:\"No\"})\n",
    "#train_final['Churn'] = train_final['Churn'].map({'Yes': 1, 'No':0})\n",
    "submission.to_csv(\"predictions_log.csv\",index=False)"
   ]
  },
  {
   "cell_type": "markdown",
   "metadata": {},
   "source": [
    "## Decision Tree"
   ]
  },
  {
   "cell_type": "code",
   "execution_count": 51,
   "metadata": {},
   "outputs": [],
   "source": [
    "from sklearn import tree\n",
    "from graphviz import Digraph\n",
    "clf = tree.DecisionTreeClassifier()\n",
    "clf = clf.fit(data_final, y)"
   ]
  },
  {
   "cell_type": "code",
   "execution_count": 52,
   "metadata": {},
   "outputs": [],
   "source": [
    "import graphviz \n",
    "with open(\"churn_classifier.txt\", \"w\") as f:\n",
    "    f = tree.export_graphviz(clf, out_file=f)"
   ]
  },
  {
   "cell_type": "code",
   "execution_count": 53,
   "metadata": {},
   "outputs": [],
   "source": [
    "# converting into the pdf file\n",
    "with open(\"churn_classifier.dot\", \"w\") as f:\n",
    "    f = tree.export_graphviz(clf, out_file=f)"
   ]
  },
  {
   "cell_type": "code",
   "execution_count": null,
   "metadata": {
    "collapsed": true
   },
   "outputs": [],
   "source": []
  },
  {
   "cell_type": "code",
   "execution_count": null,
   "metadata": {
    "collapsed": true
   },
   "outputs": [],
   "source": []
  }
 ],
 "metadata": {
  "kernelspec": {
   "display_name": "Python 3",
   "language": "python",
   "name": "python3"
  },
  "language_info": {
   "codemirror_mode": {
    "name": "ipython",
    "version": 3
   },
   "file_extension": ".py",
   "mimetype": "text/x-python",
   "name": "python",
   "nbconvert_exporter": "python",
   "pygments_lexer": "ipython3",
   "version": "3.6.3"
  }
 },
 "nbformat": 4,
 "nbformat_minor": 2
}
